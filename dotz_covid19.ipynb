{
  "nbformat": 4,
  "nbformat_minor": 0,
  "metadata": {
    "colab": {
      "name": "dotz-covid19.ipynb",
      "provenance": [],
      "collapsed_sections": [],
      "authorship_tag": "ABX9TyNT923wkJvszGLVs2HmA47R",
      "include_colab_link": true
    },
    "kernelspec": {
      "name": "python3",
      "display_name": "Python 3"
    }
  },
  "cells": [
    {
      "cell_type": "markdown",
      "metadata": {
        "id": "view-in-github",
        "colab_type": "text"
      },
      "source": [
        "<a href=\"https://colab.research.google.com/github/diogenesjusto/covid-19/blob/master/dotz_covid19.ipynb\" target=\"_parent\"><img src=\"https://colab.research.google.com/assets/colab-badge.svg\" alt=\"Open In Colab\"/></a>"
      ]
    },
    {
      "cell_type": "code",
      "metadata": {
        "id": "sH2YmmDNu2NG",
        "colab_type": "code",
        "colab": {}
      },
      "source": [
        "import pandas as pd \n",
        "# Read data from file 'filename.csv' \n",
        "data_br = pd.read_csv('https://raw.githubusercontent.com/diogenesjusto/covid-19/master/Brazil-2019.csv') \n",
        "data_fr = pd.read_csv('https://raw.githubusercontent.com/diogenesjusto/covid-19/master/France-2019.csv')\n",
        "data_it = pd.read_csv('https://raw.githubusercontent.com/diogenesjusto/covid-19/master/Italy-2019.csv')\n",
        "data_us = pd.read_csv(\"https://raw.githubusercontent.com/diogenesjusto/covid-19/master/USA-2019.csv\")\n",
        "data_ge = pd.read_csv('https://raw.githubusercontent.com/diogenesjusto/covid-19/master/Germany-2019.csv')"
      ],
      "execution_count": 0,
      "outputs": []
    },
    {
      "cell_type": "code",
      "metadata": {
        "id": "EvPVH-ON9nC6",
        "colab_type": "code",
        "colab": {}
      },
      "source": [
        "import seaborn as sns   \n",
        "import numpy as np\n",
        "\n",
        "def plot_pop_pyramid(data, pais,iax,showylabel):\n",
        "  sns.set_style(\"white\")\n",
        "  data_inv = data.iloc[::-1]\n",
        "  data[\"M_left\"] = data[\"M\"]*-1\n",
        "  bar_plot = sns.barplot(x=\"M_left\", y=\"Age\", color=\"blue\", label=\"M\",order=data_inv[\"Age\"],data = data, ax=ax[iax])\n",
        "  bar_plot = sns.barplot(x=\"F\",y=\"Age\", color=\"green\", label=\"F\",order=data_inv[\"Age\"],data = data, ax=ax[iax])\n",
        "  bar_plot.set_xlabel('')\n",
        "  bar_plot.set_xticks([])\n",
        "  if showylabel==0:\n",
        "    bar_plot.set_ylabel('')\n",
        "    bar_plot.set_yticks([])\n",
        "  \n",
        "  bar_plot.set(xlabel=\"Homens - Mulheres\", ylabel=\"\", title = pais)"
      ],
      "execution_count": 0,
      "outputs": []
    },
    {
      "cell_type": "code",
      "metadata": {
        "id": "tCMR7VoV0Uqc",
        "colab_type": "code",
        "colab": {
          "base_uri": "https://localhost:8080/",
          "height": 496
        },
        "outputId": "b00e269c-8262-436d-cf5f-21be83717795"
      },
      "source": [
        "import matplotlib.pyplot as plt \n",
        "\n",
        "plt.rcParams[\"figure.figsize\"]=(12,8)\n",
        "\n",
        "fig, ax =plt.subplots(1,5)\n",
        "plot_pop_pyramid(data_br,\"BR\",0,1)\n",
        "plot_pop_pyramid(data_us,\"US\",1,0)\n",
        "plot_pop_pyramid(data_fr,\"FR\",2,0)\n",
        "plot_pop_pyramid(data_it,\"IT\",3,0)\n",
        "plot_pop_pyramid(data_ge,\"GE\",4,0)\n",
        "fig.show()\n",
        "\n",
        "\n",
        "\n"
      ],
      "execution_count": 4,
      "outputs": [
        {
          "output_type": "display_data",
          "data": {
            "image/png": "[encoded data removed]",
            "text/plain": [
              "<Figure size 864x576 with 5 Axes>"
            ]
          },
          "metadata": {
            "tags": []
          }
        }
      ]
    },
    {
      "cell_type": "code",
      "metadata": {
        "id": "1JWQxH9b0szW",
        "colab_type": "code",
        "colab": {
          "base_uri": "https://localhost:8080/",
          "height": 68
        },
        "outputId": "4a5d7382-92fb-4b17-cb8f-383b113dc8df"
      },
      "source": [
        "data_br.loc[16:20,:]\n",
        "\n",
        "data = data_us\n",
        "data\n",
        "\n",
        "d80 = data.loc[16:20,:]\n",
        "d80 = sum(d80[\"M\"]+d80[\"F\"])\n",
        "\n",
        "d70 = data.loc[14:15,:]\n",
        "d70 = sum(d70[\"M\"]+d70[\"F\"])\n",
        "\n",
        "d60 = data.loc[12:13,:]\n",
        "d60 = sum(d60[\"M\"]+d60[\"F\"])\n",
        "\n",
        "d50 = data.loc[10:11,:]\n",
        "d50 = sum(d50[\"M\"]+d50[\"F\"])\n",
        "\n",
        "dout = data.loc[0:9,:]\n",
        "dout = sum(dout[\"M\"]+dout[\"F\"])\n",
        "\n",
        "d80p = d80/(sum(data[\"M\"]+data[\"F\"]))\n",
        "d70p = d70/(sum(data[\"M\"]+data[\"F\"]))\n",
        "d60p = d60/(sum(data[\"M\"]+data[\"F\"]))\n",
        "d50p = d50/(sum(data[\"M\"]+data[\"F\"]))\n",
        "doutp = dout/(sum(data[\"M\"]+data[\"F\"]))\n",
        "\n",
        "print(d80p,d70p,d60p,d50p,doutp)\n",
        "print(d80p*0.148,d70p*0.08,d60p*0.036,d50p*0.013)\n",
        "print(d80p*0.148 + d70p*0.08 + d60p*0.036 + d50p*0.013)"
      ],
      "execution_count": 42,
      "outputs": [
        {
          "output_type": "stream",
          "text": [
            "0.0392488178859857 0.06992308450797263 0.1150080000779907 0.12932914996830244 0.6464909475597486\n",
            "0.005808825047125883 0.005593846760637811 0.0041402880028076645 0.0016812789495879318\n",
            "0.01722423876015929\n"
          ],
          "name": "stdout"
        }
      ]
    }
  ]
}